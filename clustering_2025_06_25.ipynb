{
 "cells": [
  {
   "cell_type": "code",
   "execution_count": null,
   "id": "8de8f630-614b-413f-887c-5466f04cf24a",
   "metadata": {},
   "outputs": [],
   "source": [
    "import pandas as pd\n",
    "import numpy as np\n",
    "import os\n",
    "import seaborn as sns\n",
    "from matplotlib import pyplot as plt\n",
    "from matplotlib.dates import AutoDateLocator\n",
    "from sklearn.cluster import KMeans, AgglomerativeClustering\n",
    "from sklearn.metrics import silhouette_score, adjusted_rand_score\n",
    "from matplotlib.ticker import MultipleLocator\n",
    "from matplotlib.cm import tab10\n",
    "from itertools import combinations\n",
    "from collections import defaultdict"
   ]
  },
  {
   "cell_type": "code",
   "execution_count": null,
   "id": "79047712-1bca-4cb4-a7de-efb7e6d6e963",
   "metadata": {},
   "outputs": [],
   "source": [
    "os.makedirs(\"new_cluster_results/daily\", exist_ok=True)\n",
    "os.makedirs(\"new_cluster_results/monthly\", exist_ok=True)"
   ]
  },
  {
   "cell_type": "code",
   "execution_count": null,
   "id": "46774a65-c6d4-40a4-88f9-e9c984e73384",
   "metadata": {},
   "outputs": [],
   "source": [
    "name_map = pd.read_csv(\"sewershed_names.csv\")\n",
    "name_map_dict = {k:v for k,v in zip(name_map.sewershed_result_name, name_map.cdphe_flow_name)}\n",
    "name_map_dict_r = {v:k for k,v in name_map_dict.items()}"
   ]
  },
  {
   "cell_type": "code",
   "execution_count": null,
   "id": "5b678ce6-5d81-4c3f-9983-5959fe60ecaa",
   "metadata": {},
   "outputs": [],
   "source": [
    "# Read the filter file\n",
    "filter_sewersheds = pd.read_csv(\"flow_mobile_corr_daily.csv\", index_col=0)\n",
    "# Modify the names to match the ones in the data files\n",
    "filter_sewersheds[\"sewershed_result_name\"] = filter_sewersheds[\"sewershed_result_name\"].replace(name_map_dict)\n",
    "# Make a set of the sewersheds for inclusion\n",
    "use_sewersheds = set(filter_sewersheds.sewershed_result_name)\n",
    "# Print size\n",
    "print(f\"Inclusion set has {len(use_sewersheds)} sewersheds.\")"
   ]
  },
  {
   "cell_type": "code",
   "execution_count": null,
   "id": "42d515d7-a1e9-4698-98c0-16a6fc12e23f",
   "metadata": {},
   "outputs": [],
   "source": [
    "# Path to monthly dataset\n",
    "MONTHLY_VISITATION_JOINED = \"/biostats_share/hillandr/data/WW_Mobility_2025_04_04/processed/2025_04_04_monthly_devices.csv\""
   ]
  },
  {
   "cell_type": "code",
   "execution_count": null,
   "id": "f2e824d9-863b-46d2-bda9-b894caa5e87f",
   "metadata": {},
   "outputs": [],
   "source": [
    "# Read monthly data\n",
    "monthly_visitation = pd.read_csv(MONTHLY_VISITATION_JOINED)\n",
    "# Create a summed device count\n",
    "monthly_visitation[\"DEVICE_SUM\"] = monthly_visitation[\"SOURCE_AREA_DEVICE_COUNT\"] + monthly_visitation[\"NUMBER_DEVICES_RESIDING\"]"
   ]
  },
  {
   "cell_type": "code",
   "execution_count": null,
   "id": "dd386a84-d3e6-425d-b264-ca3980d83bce",
   "metadata": {},
   "outputs": [],
   "source": [
    "# Pivot the monthly data\n",
    "monthly_data_training_format = monthly_visitation.pivot(index=\"AREA_SEWERSHED\", columns=[\"DATE_RANGE_START\"], values=[\"DEVICE_SUM\"])\n",
    "# Drop the unnecessary level\n",
    "monthly_data_training_format.columns = monthly_data_training_format.columns.droplevel(level=0)\n",
    "# Log transform\n",
    "monthly_data_training_format_log = np.log(monthly_data_training_format)\n",
    "# Z-Score normalize (with respect to the temporal axis for each series)\n",
    "monthly_data_training_format_log_norm = monthly_data_training_format_log.sub(monthly_data_training_format_log.mean(axis=1), axis=0).div(monthly_data_training_format_log.std(axis=1), axis=0)\n",
    "# Subset to just the \n",
    "monthly_data_training_format_log_norm = monthly_data_training_format_log_norm.loc[monthly_data_training_format_log_norm.index.isin(use_sewersheds)]\n",
    "# Print size\n",
    "print(f\"Monthly dataset has {monthly_data_training_format_log_norm.shape[0]} sewersheds.\")"
   ]
  },
  {
   "cell_type": "code",
   "execution_count": null,
   "id": "0dcdb944-b867-49a2-af12-4d9a45832646",
   "metadata": {},
   "outputs": [],
   "source": [
    "def get_silhouette(i: int, df: pd.DataFrame, n_reps:int = 50):\n",
    "    rng = np.random.default_rng(42)\n",
    "    km_list = []\n",
    "    for seed in rng.integers(low=0, high=np.iinfo(\"int32\").max, size=n_reps):\n",
    "        km_obj = KMeans(i, random_state=seed)\n",
    "        km_labels = km_obj.fit_predict(df)\n",
    "        km_list.append(silhouette_score(df, km_labels))\n",
    "    return pd.DataFrame({\"Silhouette Score\": km_list}, index=pd.RangeIndex(n_reps, name=\"rep_id\"))"
   ]
  },
  {
   "cell_type": "code",
   "execution_count": null,
   "id": "c803299a-c832-41a3-8f88-212b8f7158be",
   "metadata": {},
   "outputs": [],
   "source": [
    "monthly_k_to_ss = pd.concat({i:get_silhouette(i, monthly_data_training_format_log_norm) for i in range(2, 15)}, names=\"k\").reset_index()\n",
    "monthly_k_to_ss[\"flag\"] = 1"
   ]
  },
  {
   "cell_type": "code",
   "execution_count": null,
   "id": "3cb6ab24-1bdb-4050-9da9-e3a7ce4fddc1",
   "metadata": {},
   "outputs": [],
   "source": [
    "fig, ax = plt.subplots()\n",
    "sns.lineplot(data=monthly_k_to_ss, x=\"k\", y=\"Silhouette Score\", errorbar=(\"pi\", 50), style=\"flag\", markers=True, legend=False, ax=ax)\n",
    "# ax.plot(monthly_k_to_ss, \"o-\")\n",
    "ax.set_xlabel(\"K Clusters\")\n",
    "ax.set_ylabel(\"Silhouette Score\")\n",
    "ax.set_title(\"Monthly Silhouette Score for K=[2,14]\")\n",
    "ax.xaxis.set_minor_locator(MultipleLocator())\n",
    "fig.savefig(\"new_cluster_results/monthly/monthly_silhouette_score.png\")"
   ]
  },
  {
   "cell_type": "code",
   "execution_count": null,
   "id": "7f26aa99-cc0e-499c-ae09-bd41f43caa89",
   "metadata": {},
   "outputs": [],
   "source": [
    "def plot_k(k: int, df: pd.DataFrame, filename: str = None):\n",
    "    km_obj = KMeans(k, random_state=42)\n",
    "    km_labels = km_obj.fit_predict(df)\n",
    "    fig, ax = plt.subplots(nrows=k, figsize=(12,k*3))\n",
    "    for i,unq_lbl in enumerate(np.unique(km_labels)):\n",
    "        #print(f\"Cluster {unq_lbl}:\")\n",
    "        #print(', '.join(data_training_format_log_norm.index[km_labels == i]))\n",
    "        ax[i].plot(df.loc[km_labels == i].transpose(), alpha=0.3, color=tab10(i))\n",
    "        ax[i].xaxis.set_major_locator(AutoDateLocator())\n",
    "    if filename is not None:\n",
    "        fig.savefig(filename)\n",
    "    plt.close(fig)\n",
    "    return km_labels"
   ]
  },
  {
   "cell_type": "code",
   "execution_count": null,
   "id": "08d960ed-be50-428c-a271-db25f9d1532f",
   "metadata": {},
   "outputs": [],
   "source": [
    "monthly_k_2_labels = plot_k(2, monthly_data_training_format_log_norm, filename=\"new_cluster_results/monthly/monthly_kmeans_k2.png\")\n",
    "monthly_k_3_labels = plot_k(3, monthly_data_training_format_log_norm, filename=\"new_cluster_results/monthly/monthly_kmeans_k3.png\")\n",
    "monthly_k_9_labels = plot_k(9, monthly_data_training_format_log_norm, filename=\"new_cluster_results/monthly/monthly_kmeans_k9.png\")"
   ]
  },
  {
   "cell_type": "code",
   "execution_count": null,
   "id": "326b3184-5002-49bf-a1cd-b059beae99f3",
   "metadata": {},
   "outputs": [],
   "source": [
    "monthly_clust_labels_df = pd.DataFrame({\"kmeans_k2\": monthly_k_2_labels, \"kmeans_k3\": monthly_k_3_labels, \"kmeans_k9\": monthly_k_9_labels}, index=monthly_data_training_format_log_norm.index)\n",
    "monthly_clust_labels_df.to_csv(\"new_cluster_results/monthly/2025_06_25_monthly_kmeans_cluster_labels.csv\")"
   ]
  },
  {
   "cell_type": "markdown",
   "id": "db863dd5-212c-4db8-a0c0-986aee4211a2",
   "metadata": {},
   "source": [
    "# Daily Data"
   ]
  },
  {
   "cell_type": "code",
   "execution_count": null,
   "id": "427ca071-7fbd-49b4-894c-24360614d864",
   "metadata": {},
   "outputs": [],
   "source": [
    "# Path to daily dataset\n",
    "DAILY_DATA = \"/biostats_share/hillandr/data/WW_Mobility_2025_04_04/processed/2025_04_04_daily_visits_sum.csv\""
   ]
  },
  {
   "cell_type": "code",
   "execution_count": null,
   "id": "748aa6b3-aa1a-440c-ba60-0b48c57329cf",
   "metadata": {},
   "outputs": [],
   "source": [
    "# Read daily visitation\n",
    "daily_visitation = pd.read_csv(DAILY_DATA)"
   ]
  },
  {
   "cell_type": "code",
   "execution_count": null,
   "id": "aa3188f2-241e-4599-b7e2-6bf81103bf6c",
   "metadata": {},
   "outputs": [],
   "source": [
    "# Pivot the daily data\n",
    "daily_data_training_format = daily_visitation.pivot(index=\"AREA_SEWERSHED\", columns=[\"DAY\"], values=[\"STOPS_BY_DAY_L\"])\n",
    "# Drop the unnecessary level\n",
    "daily_data_training_format.columns = daily_data_training_format.columns.droplevel(level=0)\n",
    "# Log transform\n",
    "daily_data_training_format_log = np.log(1+daily_data_training_format)\n",
    "# Z-Score normalize (with respect to the temporal axis for each series)\n",
    "daily_data_training_format_log_norm = daily_data_training_format_log.sub(daily_data_training_format_log.mean(axis=1), axis=0).div(daily_data_training_format_log.std(axis=1), axis=0)\n",
    "# Subset to just the \n",
    "daily_data_training_format_log_norm = daily_data_training_format_log_norm.loc[daily_data_training_format_log_norm.index.isin(use_sewersheds)]\n",
    "# Print size\n",
    "print(f\"Daily dataset has {daily_data_training_format_log_norm.shape[0]} sewersheds.\")"
   ]
  },
  {
   "cell_type": "code",
   "execution_count": null,
   "id": "f7fbde75-28b7-49f2-a362-0a94b8a2de0e",
   "metadata": {},
   "outputs": [],
   "source": [
    "daily_k_to_ss = pd.concat({i:get_silhouette(i, daily_data_training_format_log_norm) for i in range(2, 15)}, names=\"k\").reset_index()\n",
    "daily_k_to_ss[\"flag\"] = 1"
   ]
  },
  {
   "cell_type": "code",
   "execution_count": null,
   "id": "c72766ef-4797-4b3d-8e46-0810743b54f9",
   "metadata": {},
   "outputs": [],
   "source": [
    "fig, ax = plt.subplots()\n",
    "sns.lineplot(data=daily_k_to_ss, x=\"k\", y=\"Silhouette Score\", errorbar=(\"pi\", 50), style=\"flag\", markers=True, legend=False, ax=ax)\n",
    "#ax.plot(daily_k_to_ss, \"o-\")\n",
    "ax.set_xlabel(\"K Clusters\")\n",
    "ax.set_ylabel(\"Silhouette Score\")\n",
    "ax.set_title(\"Daily Silhouette Score for K=[2,14]\")\n",
    "ax.xaxis.set_minor_locator(MultipleLocator())\n",
    "fig.savefig(\"new_cluster_results/daily/daily_silhouette_score.png\")"
   ]
  },
  {
   "cell_type": "code",
   "execution_count": null,
   "id": "18549730-cd25-48da-85a4-fc3fb11968ce",
   "metadata": {},
   "outputs": [],
   "source": [
    "daily_k_2_labels = plot_k(2, daily_data_training_format_log_norm, filename=\"new_cluster_results/daily/daily_kmeans_k2.png\")\n",
    "daily_k_3_labels = plot_k(3, daily_data_training_format_log_norm, filename=\"new_cluster_results/daily/daily_kmeans_k3.png\")\n",
    "daily_k_6_labels = plot_k(6, daily_data_training_format_log_norm, filename=\"new_cluster_results/daily/daily_kmeans_k6.png\")"
   ]
  },
  {
   "cell_type": "code",
   "execution_count": null,
   "id": "16adb212-07c5-4c88-bb3b-49d389fe1182",
   "metadata": {},
   "outputs": [],
   "source": [
    "daily_clust_labels_df = pd.DataFrame({\"kmeans_k2\": daily_k_2_labels, \"kmeans_k3\": daily_k_3_labels, \"kmeans_k6\": daily_k_6_labels}, index=monthly_data_training_format_log_norm.index)\n",
    "daily_clust_labels_df.to_csv(\"new_cluster_results/daily/2025_06_25_daily_kmeans_cluster_labels.csv\")"
   ]
  },
  {
   "cell_type": "markdown",
   "id": "2c1adaee-f0bf-4509-a6c2-f53cbb085665",
   "metadata": {},
   "source": [
    "## Comparison to old results"
   ]
  },
  {
   "cell_type": "code",
   "execution_count": null,
   "id": "e7daa70e-3528-474e-b4c9-edafa272d8d5",
   "metadata": {},
   "outputs": [],
   "source": [
    "old_monthly_labels = pd.read_csv(\"../WW_mobility/kmeans_cluster_labels.csv\")"
   ]
  },
  {
   "cell_type": "code",
   "execution_count": null,
   "id": "8efe5b2a-593b-4947-a271-ff4f90718a82",
   "metadata": {},
   "outputs": [],
   "source": [
    "old_monthly_labels"
   ]
  },
  {
   "cell_type": "code",
   "execution_count": null,
   "id": "f40b2d0e-8ea0-43e9-86fb-8e5d7b611cd3",
   "metadata": {},
   "outputs": [],
   "source": [
    "merged_labels = pd.merge(old_monthly_labels, monthly_clust_labels_df, on=\"AREA_SEWERSHED\", how=\"inner\", suffixes=[\"_old\", \"_new\"], validate=\"1:1\")"
   ]
  },
  {
   "cell_type": "code",
   "execution_count": null,
   "id": "b4443200-abab-40c7-b6d0-626a809af066",
   "metadata": {},
   "outputs": [],
   "source": [
    "adjusted_rand_score(merged_labels[\"kmeans_k2_old\"], merged_labels[\"kmeans_k2_new\"])"
   ]
  },
  {
   "cell_type": "code",
   "execution_count": null,
   "id": "95189a08-72f4-4b10-9de9-2363cd96e1ab",
   "metadata": {},
   "outputs": [],
   "source": [
    "#merged_labels.loc[merged_labels[\"kmeans_k2_old\"] != merged_labels[\"kmeans_k2_new\"]]"
   ]
  },
  {
   "cell_type": "code",
   "execution_count": null,
   "id": "ef59e88a-6e4b-4651-a5f5-787af1c77ee4",
   "metadata": {},
   "outputs": [],
   "source": [
    "!tar --exclude '*/.ipynb_checkpoints' -czvf 2025_06_30_new_cluster_results.tar.gz new_cluster_results/"
   ]
  },
  {
   "cell_type": "code",
   "execution_count": null,
   "id": "e7e7a800-eff3-4bc2-b360-62c430a6afd4",
   "metadata": {},
   "outputs": [],
   "source": [
    "!rm -rf new_cluster_results/"
   ]
  },
  {
   "cell_type": "markdown",
   "id": "da33163c-8c78-4674-ac5e-e63a4f71d4e6",
   "metadata": {},
   "source": [
    "## Monthly Stability at K=2"
   ]
  },
  {
   "cell_type": "code",
   "execution_count": null,
   "id": "d717e175-c76c-40c5-b6c1-74f0a552c136",
   "metadata": {},
   "outputs": [],
   "source": [
    "rng = np.random.default_rng(42)\n",
    "results_list = []\n",
    "for seed in rng.integers(low=0, high=np.iinfo(\"int32\").max, size=50):\n",
    "    km_obj = KMeans(2,random_state=seed)\n",
    "    km_labels = km_obj.fit_predict(monthly_data_training_format_log_norm)\n",
    "    results_list.append(km_labels)"
   ]
  },
  {
   "cell_type": "code",
   "execution_count": null,
   "id": "bd720f7a-d84b-45e4-9474-c6ab698e30a7",
   "metadata": {},
   "outputs": [],
   "source": [
    "fig, ax = plt.subplots()\n",
    "ax.hist([adjusted_rand_score(x, y) for x,y in combinations(results_list, 2)]);"
   ]
  },
  {
   "cell_type": "code",
   "execution_count": null,
   "id": "2145e7fd-e247-4e65-8df3-66f489ac10b3",
   "metadata": {},
   "outputs": [],
   "source": []
  }
 ],
 "metadata": {
  "kernelspec": {
   "display_name": "Python 3 (ipykernel)",
   "language": "python",
   "name": "python3"
  },
  "language_info": {
   "codemirror_mode": {
    "name": "ipython",
    "version": 3
   },
   "file_extension": ".py",
   "mimetype": "text/x-python",
   "name": "python",
   "nbconvert_exporter": "python",
   "pygments_lexer": "ipython3",
   "version": "3.11.2"
  }
 },
 "nbformat": 4,
 "nbformat_minor": 5
}
