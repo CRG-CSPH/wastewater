{
 "cells": [
  {
   "cell_type": "code",
   "execution_count": null,
   "id": "f450531b-9eb4-4d89-9b08-7b84b305924e",
   "metadata": {},
   "outputs": [],
   "source": [
    "import os\n",
    "import json\n",
    "import glob\n",
    "import pandas as pd\n",
    "import numpy as np\n",
    "import seaborn as sns\n",
    "import dask.dataframe as dd\n",
    "from dask.distributed import LocalCluster\n",
    "from matplotlib import pyplot as plt\n",
    "from matplotlib.backends.backend_pdf import PdfPages\n",
    "from matplotlib.cm import tab10\n",
    "from matplotlib.ticker import PercentFormatter"
   ]
  },
  {
   "cell_type": "code",
   "execution_count": null,
   "id": "003d24b1-59a5-4922-8534-4c6d6fafbae4",
   "metadata": {},
   "outputs": [],
   "source": [
    "BASE_OUT_DIR = \"/biostats_share/hillandr/data/WW_Mobility_2025_04_04/\"\n",
    "os.makedirs(BASE_OUT_DIR, exist_ok=True)\n",
    "os.makedirs(os.path.join(BASE_OUT_DIR, \"processed\"), exist_ok=True)"
   ]
  },
  {
   "cell_type": "markdown",
   "id": "0a17567c-1b0d-4521-a978-3383f4171ec7",
   "metadata": {},
   "source": [
    "## CBG->Sewershed Mapping"
   ]
  },
  {
   "cell_type": "code",
   "execution_count": null,
   "id": "4b448456-7fa5-4f9a-922a-44d96540cbad",
   "metadata": {},
   "outputs": [],
   "source": [
    "CBG_MAP_FILE = os.path.join(BASE_OUT_DIR, \"processed/2025_03_03_geoid_to_sewershed.json\")"
   ]
  },
  {
   "cell_type": "code",
   "execution_count": null,
   "id": "ff6828f1-7814-421b-81c9-b5cffcc2ad16",
   "metadata": {},
   "outputs": [],
   "source": [
    "overlap = pd.read_csv(\"/biostats_share/hillandr/data/WW_Mobility_2024_11_19/new_overlap_jan2025.csv\", dtype={\"GEOID\": str}, index_col=\"GEOID\")\n",
    "overlap[\"pct_covered\"] = overlap[\"PERCENTAGE\"]/100\n",
    "winner_sewershed = overlap.groupby(\"GEOID\", group_keys=False).apply(lambda row: row.loc[(row.pct_covered == row.pct_covered.max()) & (row.pct_covered >= 0.002)])\n",
    "geoid_to_sewershed = {k:v for k,v in zip(winner_sewershed.index, winner_sewershed.wwtp)}"
   ]
  },
  {
   "cell_type": "code",
   "execution_count": null,
   "id": "a0199dc9-b434-4892-943a-d2b11328ab5e",
   "metadata": {},
   "outputs": [],
   "source": [
    "with open(CBG_MAP_FILE, \"w\") as f:\n",
    "    json.dump(geoid_to_sewershed, f)"
   ]
  },
  {
   "cell_type": "markdown",
   "id": "e7cd9ad1-e021-4b0e-a19a-937ac9e66961",
   "metadata": {},
   "source": [
    "## Monthly Patterns"
   ]
  },
  {
   "cell_type": "code",
   "execution_count": null,
   "id": "b64cf590-d234-4234-90a8-f84c7711bce6",
   "metadata": {},
   "outputs": [],
   "source": [
    "MONTHLY_PATTERNS_FILES = \"/biostats_share/hillandr/data/WW_Mobility_2025_03_03/raw_neigh_patterns/*.csv\"\n",
    "MONTHLY_VISIT_COUNTS_FILE = \"/biostats_share/hillandr/data/WW_Mobility_2025_03_03/processed/colorado_visit_devices_sum_agg.csv\""
   ]
  },
  {
   "cell_type": "code",
   "execution_count": null,
   "id": "9ace5507-4028-4b40-b814-39677f2334d7",
   "metadata": {},
   "outputs": [],
   "source": [
    "cluster = LocalCluster()\n",
    "client = cluster.get_client()"
   ]
  },
  {
   "cell_type": "code",
   "execution_count": null,
   "id": "f19d3af1-fd23-489c-a2c7-afad8187638e",
   "metadata": {
    "tags": []
   },
   "outputs": [],
   "source": [
    "def get_home_areas(group: pd.DataFrame):\n",
    "    ret_group = group.copy()\n",
    "    ret_group[\"device_home_areas\"] = ret_group[\"device_home_areas\"].apply(json.loads)\n",
    "    return ret_group"
   ]
  },
  {
   "cell_type": "code",
   "execution_count": null,
   "id": "e6e83d64-ab0c-4a0b-8e90-7fff47fc21dd",
   "metadata": {},
   "outputs": [],
   "source": [
    "# Read GEOID -> Sewershed name mapping file.\n",
    "with open(CBG_MAP_FILE, \"r\") as f:\n",
    "    geoid_to_sewershed = json.load(f)"
   ]
  },
  {
   "cell_type": "code",
   "execution_count": null,
   "id": "de68ec96-ed1a-4284-8d01-813bb41ba587",
   "metadata": {
    "tags": []
   },
   "outputs": [],
   "source": [
    "# Read CSV\n",
    "month_patterns = dd.read_csv(MONTHLY_PATTERNS_FILES, dtype={\"AREA\": str})\n",
    "# Correct the CBG GeoIDs\n",
    "month_patterns[\"AREA\"] = month_patterns[\"AREA\"].where(~month_patterns[\"AREA\"].str.startswith(\"8\"), \"0\"+month_patterns[\"AREA\"])\n",
    "# Map CBG to Sewershed\n",
    "month_patterns[\"AREA_SEWERSHED\"] = month_patterns[\"AREA\"].apply(lambda v: geoid_to_sewershed.get(v), meta=(\"AREA\", str))\n",
    "# Any rows which don't map to Sewershed we will drop.\n",
    "month_patterns = month_patterns.dropna(subset=[\"AREA_SEWERSHED\"])"
   ]
  },
  {
   "cell_type": "markdown",
   "id": "f1fd7e3f-4699-4c5b-814a-8ccde6a1f506",
   "metadata": {},
   "source": [
    "# Day Patterns"
   ]
  },
  {
   "cell_type": "code",
   "execution_count": null,
   "id": "138c5b37-fe41-4a92-9070-c14ee5b5fce6",
   "metadata": {},
   "outputs": [],
   "source": [
    "def parse_stops_by_day(list_str: str):\n",
    "    return json.loads(list_str)"
   ]
  },
  {
   "cell_type": "code",
   "execution_count": null,
   "id": "012f1510-2d06-4931-a51e-3d6930f350f4",
   "metadata": {},
   "outputs": [],
   "source": [
    "DAY_VISIT_SUM_OUTPUT_PATH = os.path.join(BASE_OUT_DIR, \"processed/2025_04_04_daily_visits_sum.csv\")"
   ]
  },
  {
   "cell_type": "code",
   "execution_count": null,
   "id": "b5fca8d9-0bff-4d57-ad37-8684a1b33016",
   "metadata": {},
   "outputs": [],
   "source": [
    "month_patterns[\"STOPS_BY_DAY_L\"] = month_patterns[\"STOPS_BY_DAY\"].map(parse_stops_by_day, na_action=\"ignore\", meta=(\"STOPS_BY_DAY\", object))\n",
    "month_patterns[\"DAY\"] = month_patterns.apply(lambda row: pd.date_range(row.DATE_RANGE_START, row.DATE_RANGE_END, freq=\"D\", inclusive=\"left\"), axis=1, meta=(\"DAY\", object))"
   ]
  },
  {
   "cell_type": "code",
   "execution_count": null,
   "id": "5a0e9f83-114f-44b0-94a4-f1beed0fdd04",
   "metadata": {},
   "outputs": [],
   "source": [
    "# Explode into one row per combination of source and destination sewershed.\n",
    "day_patterns_sewershed = month_patterns[[\"AREA\", \"AREA_SEWERSHED\", \"STOPS_BY_DAY_L\", \"DATE_RANGE_START\", \"DATE_RANGE_END\", \"DAY\"]].explode(column=[\"DAY\", \"STOPS_BY_DAY_L\"])\n",
    "day_patterns_sewershed[\"STOPS_BY_DAY_L\"] = day_patterns_sewershed[\"STOPS_BY_DAY_L\"].astype(float)"
   ]
  },
  {
   "cell_type": "code",
   "execution_count": null,
   "id": "644b3656-7d3d-4d4b-ba8a-1b8edcbc2c54",
   "metadata": {},
   "outputs": [],
   "source": [
    "# Calculate visitor device counts\n",
    "day_visit_counts_sum = day_patterns_sewershed.groupby([\"AREA_SEWERSHED\",\"DATE_RANGE_START\", \"DAY\"])[\"STOPS_BY_DAY_L\"].agg(\"sum\")"
   ]
  },
  {
   "cell_type": "code",
   "execution_count": null,
   "id": "68d9d65c-f4cc-43c5-ace0-395ff6b14f80",
   "metadata": {},
   "outputs": [],
   "source": [
    "if os.path.isfile(DAY_VISIT_SUM_OUTPUT_PATH):\n",
    "    os.remove(DAY_VISIT_SUM_OUTPUT_PATH)\n",
    "day_visit_counts_sum.to_csv(DAY_VISIT_SUM_OUTPUT_PATH, single_file=True)"
   ]
  },
  {
   "cell_type": "markdown",
   "id": "a5b420dc-7618-4081-a078-fe76ab6b4650",
   "metadata": {},
   "source": [
    "# Extract Monthly Visit/Home Device Counts"
   ]
  },
  {
   "cell_type": "code",
   "execution_count": null,
   "id": "50d18b7b-d0ec-40f4-9c96-25339d2d6269",
   "metadata": {
    "tags": []
   },
   "outputs": [],
   "source": [
    "# Parse DEVICE_HOME_AREAS as JSON\n",
    "month_patterns[\"DEVICE_HOME_AREAS_D\"] = month_patterns[\"DEVICE_HOME_AREAS\"].apply(json.loads, meta=(\"DEVICE_HOME_AREAS\", object))\n",
    "# Create columns for Source Area and Source Area Device Count\n",
    "month_patterns[\"SOURCE_AREA\"] = month_patterns[\"DEVICE_HOME_AREAS_D\"].map(lambda d: list(d.keys()), meta=(\"DEVICE_HOME_AREAS_D\", object))\n",
    "month_patterns[\"SOURCE_AREA_DEVICE_COUNT\"] = month_patterns[\"DEVICE_HOME_AREAS_D\"].map(lambda d: list(d.values()), meta=(\"DEVICE_HOME_AREAS_D\", object))"
   ]
  },
  {
   "cell_type": "code",
   "execution_count": null,
   "id": "49923d2d-0a3b-4245-be84-fac32cf52251",
   "metadata": {
    "tags": []
   },
   "outputs": [],
   "source": [
    "# Explode into one row per combination of source and destination sewershed.\n",
    "month_patterns_sewershed = month_patterns[[\"AREA\", \"AREA_SEWERSHED\", \"DATE_RANGE_START\", \"DATE_RANGE_END\", \"SOURCE_AREA\", \"SOURCE_AREA_DEVICE_COUNT\"]].explode(column=[\"SOURCE_AREA\", \"SOURCE_AREA_DEVICE_COUNT\"])\n",
    "# Map Source Area CBG IDs to Sewershed.\n",
    "month_patterns_sewershed[\"SOURCE_AREA_SEWERSHED\"] = month_patterns_sewershed[\"SOURCE_AREA\"].apply(lambda v: geoid_to_sewershed.get(v), meta=(\"SOURCE_AREA\", str))\n",
    "month_patterns_sewershed = month_patterns_sewershed.dropna(subset=[\"SOURCE_AREA\"])\n",
    "# Convert the count to float so Dask knows it's a float.\n",
    "month_patterns_sewershed[\"SOURCE_AREA_DEVICE_COUNT\"] = month_patterns_sewershed[\"SOURCE_AREA_DEVICE_COUNT\"].astype(float)"
   ]
  },
  {
   "cell_type": "markdown",
   "id": "66d9e465-f5c1-4163-956d-cb9efc439916",
   "metadata": {},
   "source": [
    "### Cases for device counting\n",
    "1. Device is in home area, and sewershed (`area` == `visitor_home_area`) - Count as non-visitor\n",
    "2. Device is outside home area but in home sewershed (`area` != `visitor_home_area` AND `sewershed` == `visitor_home_sewershed`) - Don't count (potential to double-count devices)\n",
    "3. Device is outside home area and home sewershed (`area` != `visitor_home_area` AND `sewershed` != `visitor_home_sewershed`) - Count as visitor."
   ]
  },
  {
   "cell_type": "code",
   "execution_count": null,
   "id": "e12af034-a09a-48a3-87d6-f370c0abb45b",
   "metadata": {
    "tags": []
   },
   "outputs": [],
   "source": [
    "month_patterns_sewershed[\"IS_HOME_DEVICE\"] = month_patterns_sewershed[\"AREA\"] == month_patterns_sewershed[\"SOURCE_AREA\"] \n",
    "month_patterns_sewershed[\"IS_SAME_SEWERSHED_DEVICE\"] = (~month_patterns_sewershed[\"IS_HOME_DEVICE\"]) & (month_patterns_sewershed[\"AREA_SEWERSHED\"] == month_patterns_sewershed[\"SOURCE_AREA_SEWERSHED\"])\n",
    "month_patterns_sewershed[\"IS_VISITOR_DEVICE\"] = (~month_patterns_sewershed[\"IS_HOME_DEVICE\"]) & (~month_patterns_sewershed[\"IS_SAME_SEWERSHED_DEVICE\"])"
   ]
  },
  {
   "cell_type": "code",
   "execution_count": null,
   "id": "d765bafc-965f-44e7-b586-8955308cfa0c",
   "metadata": {
    "tags": []
   },
   "outputs": [],
   "source": [
    "# Calculate visitor device counts\n",
    "visitor_counts_all = month_patterns_sewershed.loc[month_patterns_sewershed.IS_VISITOR_DEVICE]\n",
    "agg_visitor_counts = visitor_counts_all.groupby([\"AREA_SEWERSHED\",\"DATE_RANGE_START\",\"SOURCE_AREA\"])[\"SOURCE_AREA_DEVICE_COUNT\"].sum()\n",
    "sewershed_visitor_counts = agg_visitor_counts.groupby([\"AREA_SEWERSHED\", \"DATE_RANGE_START\"]).sum()"
   ]
  },
  {
   "cell_type": "code",
   "execution_count": null,
   "id": "83c74674-e114-4619-9f1b-bb52eea12c02",
   "metadata": {},
   "outputs": [],
   "source": [
    "if os.path.isfile(MONTHLY_VISIT_COUNTS_FILE):\n",
    "    os.remove(MONTHLY_VISIT_COUNTS_FILE)\n",
    "sewershed_visitor_counts.to_csv(MONTHLY_VISIT_COUNTS_FILE, single_file=True)"
   ]
  },
  {
   "cell_type": "markdown",
   "id": "4a730b7a-7750-406b-b360-688c8421557e",
   "metadata": {},
   "source": [
    "## Monthly Supplement"
   ]
  },
  {
   "cell_type": "code",
   "execution_count": null,
   "id": "d64b8f9d-98c0-4088-911e-2ec30f89ae0d",
   "metadata": {},
   "outputs": [],
   "source": [
    "MONTHLY_SUPPLEMENT_FILES = glob.glob(\"/biostats_share/hillandr/data/WW_Mobility_2025_03_03/raw_neigh_patterns_meta/*.csv.gz\")\n",
    "MONTHLY_SUPPLEMENT_OUTPUT_FILE = \"/biostats_share/hillandr/data/WW_Mobility_2025_03_03/processed/colorado_monthly_supplement.csv\""
   ]
  },
  {
   "cell_type": "code",
   "execution_count": null,
   "id": "c63a3f3c-1c24-4eee-81a7-3b3e8990fdf6",
   "metadata": {},
   "outputs": [],
   "source": [
    "# Delete existing file\n",
    "if os.path.isfile(MONTHLY_SUPPLEMENT_OUTPUT_FILE):\n",
    "    print(f\"Deleting existing file '{MONTHLY_SUPPLEMENT_OUTPUT_FILE}'...\")\n",
    "    os.remove(MONTHLY_SUPPLEMENT_OUTPUT_FILE)\n",
    "\n",
    "# Process files into single file.\n",
    "is_first_file = True\n",
    "for i, supp_file_path in enumerate(MONTHLY_SUPPLEMENT_FILES):\n",
    "    tmp_df = pd.read_csv(supp_file_path, dtype={\"CENSUS_BLOCK_GROUP\": str})\n",
    "    tmp_df = tmp_df.loc[(tmp_df.ISO_COUNTRY_CODE == \"US\") & (tmp_df.REGION == \"co\")]\n",
    "    if len(tmp_df) == 0:\n",
    "        print(f\"Skipping {supp_file_path}...\")\n",
    "        continue\n",
    "    tmp_df[\"DATE_RANGE_START\"] = tmp_df[[\"YEAR\", \"MONTH\"]].apply(lambda row: f\"{row.YEAR:02d}-{row.MONTH:02d}-01\", axis=1)\n",
    "    tmp_df.rename(columns={\"CENSUS_BLOCK_GROUP\": \"AREA\"},inplace=True)\n",
    "    tmp_df[\"AREA_SEWERSHED\"] = tmp_df[\"AREA\"].map(geoid_to_sewershed)\n",
    "    tmp_df.dropna(subset=[\"AREA_SEWERSHED\"], inplace=True)\n",
    "    tmp_df.to_csv(MONTHLY_SUPPLEMENT_OUTPUT_FILE, mode=\"a\", header=is_first_file, index=False)\n",
    "    is_first_file=False\n",
    "    print(f\"\\r{i+1}/{len(MONTHLY_SUPPLEMENT_FILES)} complete...\", end=\"\")\n",
    "print()"
   ]
  },
  {
   "cell_type": "markdown",
   "id": "d392de61-7863-4119-8a82-26bd31461d0f",
   "metadata": {},
   "source": [
    "## Combined Monthly Visitation/Home Devices data"
   ]
  },
  {
   "cell_type": "code",
   "execution_count": null,
   "id": "e14336fb-9e35-4e14-845d-4e03c84e1c97",
   "metadata": {},
   "outputs": [],
   "source": [
    "MONTHLY_VISITATION_JOINED = \"/biostats_share/hillandr/data/WW_Mobility_2025_04_04/processed/2025_04_04_monthly_devices.csv\""
   ]
  },
  {
   "cell_type": "code",
   "execution_count": null,
   "id": "134cef28-2c69-40c9-a065-477ecdce3f08",
   "metadata": {},
   "outputs": [],
   "source": [
    "month_visitation = pd.read_csv(MONTHLY_VISIT_COUNTS_FILE, parse_dates=[\"DATE_RANGE_START\"])\n",
    "month_supplement = pd.read_csv(MONTHLY_SUPPLEMENT_OUTPUT_FILE, parse_dates=[\"DATE_RANGE_START\"])"
   ]
  },
  {
   "cell_type": "code",
   "execution_count": null,
   "id": "58ec52f7-bd2c-425c-8abf-089ff3055061",
   "metadata": {},
   "outputs": [],
   "source": [
    "month_supp_group = month_supplement[[\"AREA_SEWERSHED\", \"DATE_RANGE_START\", \"NUMBER_DEVICES_RESIDING\", \"NUMBER_DEVICES_PRIMARY_DAYTIME\"]].groupby([\"AREA_SEWERSHED\", \"DATE_RANGE_START\"]).sum().reset_index()"
   ]
  },
  {
   "cell_type": "code",
   "execution_count": null,
   "id": "5c3a3ff6-52f6-4332-bf9b-83343e8bfbc1",
   "metadata": {},
   "outputs": [],
   "source": [
    "month_data_joined = pd.merge(month_visitation, month_supp_group, on=[\"AREA_SEWERSHED\", \"DATE_RANGE_START\"])"
   ]
  },
  {
   "cell_type": "code",
   "execution_count": null,
   "id": "9195a145-1d59-4560-b868-7e6234c7fa80",
   "metadata": {},
   "outputs": [],
   "source": [
    "n_months = (12*5)+1\n",
    "n_months * 71"
   ]
  },
  {
   "cell_type": "code",
   "execution_count": null,
   "id": "caebb1ad-1449-4ae9-9d6d-b626e48b8a92",
   "metadata": {},
   "outputs": [],
   "source": [
    "month_data_joined.SOURCE_AREA_DEVICE_COUNT.isna().any()"
   ]
  },
  {
   "cell_type": "code",
   "execution_count": null,
   "id": "a472021d-a57d-401a-9fe1-229ed9e8eb8d",
   "metadata": {},
   "outputs": [],
   "source": [
    "month_data_joined.sort_values([\"AREA_SEWERSHED\", \"DATE_RANGE_START\"], inplace=True)"
   ]
  },
  {
   "cell_type": "code",
   "execution_count": null,
   "id": "c235bc93-93f0-4be2-8636-29bf4f46195d",
   "metadata": {},
   "outputs": [],
   "source": [
    "month_data_joined.to_csv(MONTHLY_VISITATION_JOINED, index=False)"
   ]
  },
  {
   "cell_type": "code",
   "execution_count": null,
   "id": "83fdc72d-d8ed-4f52-8d89-b71b7c382e9c",
   "metadata": {},
   "outputs": [],
   "source": []
  }
 ],
 "metadata": {
  "kernelspec": {
   "display_name": "Python 3 (ipykernel)",
   "language": "python",
   "name": "python3"
  },
  "language_info": {
   "codemirror_mode": {
    "name": "ipython",
    "version": 3
   },
   "file_extension": ".py",
   "mimetype": "text/x-python",
   "name": "python",
   "nbconvert_exporter": "python",
   "pygments_lexer": "ipython3",
   "version": "3.11.2"
  }
 },
 "nbformat": 4,
 "nbformat_minor": 5
}
